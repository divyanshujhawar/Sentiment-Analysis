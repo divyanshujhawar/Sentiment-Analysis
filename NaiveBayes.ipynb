{
 "cells": [
  {
   "cell_type": "markdown",
   "metadata": {},
   "source": [
    "# Naive Bayes for text categorization\n"
   ]
  },
  {
   "cell_type": "code",
   "execution_count": 1,
   "metadata": {},
   "outputs": [],
   "source": [
    "import re\n",
    "import math\n",
    "import random\n",
    "import numpy as np\n",
    "import matplotlib.pyplot as plt"
   ]
  },
  {
   "cell_type": "markdown",
   "metadata": {},
   "source": [
    "### Reading data file"
   ]
  },
  {
   "cell_type": "code",
   "execution_count": 2,
   "metadata": {},
   "outputs": [],
   "source": [
    "data_set = []\n",
    "labels = []\n",
    "data_path1 = 'amazon_cells_labelled.txt'\n",
    "data_path2 = 'imdb_labelled.txt'\n",
    "data_path3 = 'yelp_labelled.txt'\n",
    "with open(data_path1) as dp:\n",
    "    line = dp.readline()\n",
    "    while line:\n",
    "        data_set.append(line.strip())\n",
    "        line = dp.readline()"
   ]
  },
  {
   "cell_type": "markdown",
   "metadata": {},
   "source": [
    "### Organizing data"
   ]
  },
  {
   "cell_type": "code",
   "execution_count": 3,
   "metadata": {},
   "outputs": [],
   "source": [
    "def createData(dataset):\n",
    "    d = [i[:-3] for i in dataset]\n",
    "    d = [item.lower() for item in d]\n",
    "    for i in range(len(d)):\n",
    "        d[i] = re.sub('[^A-Za-z0-9-\\s]+', '', d[i])\n",
    "    l = [i[-1:] for i in dataset]\n",
    "    for i in range(0, len(l)): \n",
    "        l[i] = int(l[i])\n",
    "    dataset = list(zip(d , l))\n",
    "    \n",
    "    return dataset"
   ]
  },
  {
   "cell_type": "code",
   "execution_count": 4,
   "metadata": {},
   "outputs": [],
   "source": [
    "dataset = createData(data_set)"
   ]
  },
  {
   "cell_type": "markdown",
   "metadata": {},
   "source": [
    "### Class distribution\n"
   ]
  },
  {
   "cell_type": "code",
   "execution_count": 5,
   "metadata": {},
   "outputs": [],
   "source": [
    "def classDistribution(dataset):\n",
    "    \n",
    "    dataset_class_1 = []\n",
    "    dataset_class_0 = []\n",
    "    \n",
    "    for i in range(len(dataset)):\n",
    "        if dataset[i][1] == 1:\n",
    "            dataset_class_1.append(dataset[i])\n",
    "        else:\n",
    "            dataset_class_0.append(dataset[i])\n",
    "            \n",
    "    dataset_class_1 = random.sample(dataset_class_1,len(dataset_class_1))\n",
    "    \n",
    "    dataset_class_0 = random.sample(dataset_class_0,len(dataset_class_0))\n",
    "    \n",
    "    return dataset_class_0, dataset_class_1"
   ]
  },
  {
   "cell_type": "code",
   "execution_count": 6,
   "metadata": {},
   "outputs": [],
   "source": [
    "dataset_class_0, dataset_class_1 = classDistribution(dataset)"
   ]
  },
  {
   "cell_type": "markdown",
   "metadata": {},
   "source": [
    "### Train and Test Split"
   ]
  },
  {
   "cell_type": "code",
   "execution_count": 7,
   "metadata": {},
   "outputs": [],
   "source": [
    "def train_test_split(dataset, value):\n",
    "    index = int(value*len(dataset))\n",
    "    train = dataset[:index]\n",
    "    test = dataset[index:]\n",
    "    \n",
    "    return train, test"
   ]
  },
  {
   "cell_type": "code",
   "execution_count": 8,
   "metadata": {},
   "outputs": [],
   "source": [
    "train_1, test_1 = train_test_split(dataset_class_1,0.8)\n",
    "train_0, test_0 = train_test_split(dataset_class_0,0.8)"
   ]
  },
  {
   "cell_type": "markdown",
   "metadata": {},
   "source": [
    "### Token Calculation"
   ]
  },
  {
   "cell_type": "code",
   "execution_count": 9,
   "metadata": {},
   "outputs": [],
   "source": [
    "def generate_token(data):\n",
    "    c_words = {}               # Vocabulary of words in class 1\n",
    "    total_words = 0            # Total words in class 1\n",
    "    for i in range(len(data)):\n",
    "        for word in data[i][0].split(\" \"):\n",
    "            total_words += 1\n",
    "            if(word in c_words):\n",
    "                c_words[word] +=1\n",
    "            else:\n",
    "                c_words[word] = 1\n",
    "    return c_words,total_words"
   ]
  },
  {
   "cell_type": "code",
   "execution_count": 10,
   "metadata": {},
   "outputs": [],
   "source": [
    "c_words_1,total_words_1 = generate_token(train_1)\n",
    "c_words_0,total_words_0 = generate_token(train_0)"
   ]
  },
  {
   "cell_type": "markdown",
   "metadata": {},
   "source": [
    "### Creating training and testing dataset"
   ]
  },
  {
   "cell_type": "code",
   "execution_count": 11,
   "metadata": {},
   "outputs": [],
   "source": [
    "train = train_1 + train_0"
   ]
  },
  {
   "cell_type": "code",
   "execution_count": 12,
   "metadata": {},
   "outputs": [],
   "source": [
    "train_ran = random.sample(train,len(train))"
   ]
  },
  {
   "cell_type": "code",
   "execution_count": 13,
   "metadata": {},
   "outputs": [],
   "source": [
    "test = test_1 + test_0"
   ]
  },
  {
   "cell_type": "code",
   "execution_count": 14,
   "metadata": {},
   "outputs": [],
   "source": [
    "test_ran = random.sample(test,len(test))"
   ]
  },
  {
   "cell_type": "code",
   "execution_count": 15,
   "metadata": {},
   "outputs": [],
   "source": [
    "train_data = []\n",
    "train_label = []\n",
    "for i in range(len(train_ran)):\n",
    "    train_data.append(train_ran[i][0])\n",
    "    train_label.append(train_ran[i][1])\n"
   ]
  },
  {
   "cell_type": "code",
   "execution_count": 16,
   "metadata": {},
   "outputs": [],
   "source": [
    "test_data = []\n",
    "test_label = []\n",
    "for i in range(len(test_ran)):\n",
    "    test_data.append(test_ran[i][0])\n",
    "    test_label.append(test_ran[i][1])"
   ]
  },
  {
   "cell_type": "markdown",
   "metadata": {},
   "source": [
    "### Creating Dictionary\n"
   ]
  },
  {
   "cell_type": "code",
   "execution_count": 17,
   "metadata": {},
   "outputs": [],
   "source": [
    "def create_dict(data):\n",
    "    \n",
    "    vocab = {}\n",
    "    total_words = 0\n",
    "    \n",
    "    for i in range(len(data)):\n",
    "        for word in data[i][0].split(\" \"):\n",
    "            total_words += 1\n",
    "            if(word in vocab):\n",
    "                vocab[word] +=1\n",
    "            else:\n",
    "                vocab[word] = 1\n",
    "    return vocab,total_words"
   ]
  },
  {
   "cell_type": "code",
   "execution_count": 18,
   "metadata": {},
   "outputs": [],
   "source": [
    "vocab,total_words = create_dict(train)"
   ]
  },
  {
   "cell_type": "markdown",
   "metadata": {},
   "source": [
    "### Prior"
   ]
  },
  {
   "cell_type": "code",
   "execution_count": 19,
   "metadata": {},
   "outputs": [],
   "source": [
    "def generate_prior(train_class,data):\n",
    "    maxL = math.log(len(train_class)/(len(data)))\n",
    "    \n",
    "    return maxL"
   ]
  },
  {
   "cell_type": "code",
   "execution_count": 20,
   "metadata": {},
   "outputs": [],
   "source": [
    "maxL_0 = generate_prior(train_0,train)\n",
    "maxL_1 = generate_prior(train_1,train)"
   ]
  },
  {
   "cell_type": "markdown",
   "metadata": {},
   "source": [
    "### Prediction Function"
   ]
  },
  {
   "cell_type": "code",
   "execution_count": 21,
   "metadata": {},
   "outputs": [],
   "source": [
    "def prediction(maxL_0,maxL_1,tokens_0,tokens_1,test):\n",
    "    \n",
    "    y_prime = []\n",
    "    accuracy = 0\n",
    "    \n",
    "    for i in range(len(test)):\n",
    "        \n",
    "        pred_0 = maxL_0\n",
    "        pred_1 = maxL_1\n",
    "        \n",
    "        for word in test[i][0].split(\" \"):\n",
    "            word = word.lower()\n",
    "            if tokens_0.__contains__(word):\n",
    "                pred_0 += tokens_0[word]\n",
    "            if tokens_1.__contains__(word):    \n",
    "                pred_1 += tokens_1[word]\n",
    "    \n",
    "        if pred_0 > pred_1:\n",
    "            y_prime.append(0)\n",
    "        else: \n",
    "            y_prime.append(1)\n",
    "        \n",
    "        if y_prime[i] == test[i][1]:\n",
    "            accuracy += 1\n",
    "    \n",
    "    total_accuracy = accuracy/len(test)\n",
    "    \n",
    "    return total_accuracy"
   ]
  },
  {
   "cell_type": "markdown",
   "metadata": {},
   "source": [
    "### Generalized function for MAP"
   ]
  },
  {
   "cell_type": "code",
   "execution_count": 22,
   "metadata": {},
   "outputs": [],
   "source": [
    "def calculate_MAP(vocab_data,vocab_class,total_words_class,m):\n",
    "    MAP_tokens = {}\n",
    "    vocab_len = len(vocab_data)\n",
    "    \n",
    "    for word in vocab_data:\n",
    "        if vocab_class.__contains__(word):\n",
    "            MAP_tokens[word] = math.log((vocab_class[word] + m)/(total_words_class + (vocab_len*m)))\n",
    "        else:\n",
    "            if m != 0:\n",
    "                MAP_tokens[word] = math.log((m)/(total_words_class + (vocab_len*m)))\n",
    "    return MAP_tokens\n",
    "    "
   ]
  },
  {
   "cell_type": "code",
   "execution_count": 23,
   "metadata": {},
   "outputs": [],
   "source": [
    "maxL_tokens_0 = calculate_MAP(vocab,c_words_0,total_words_0,0)\n",
    "maxL_tokens_1 = calculate_MAP(vocab,c_words_1,total_words_1,0)"
   ]
  },
  {
   "cell_type": "code",
   "execution_count": 24,
   "metadata": {},
   "outputs": [],
   "source": [
    "MAP_tokens_0 = calculate_MAP(vocab,c_words_0,total_words_0,1)\n",
    "MAP_tokens_1 = calculate_MAP(vocab,c_words_1,total_words_1,1)"
   ]
  },
  {
   "cell_type": "markdown",
   "metadata": {},
   "source": [
    "### Function to find average"
   ]
  },
  {
   "cell_type": "code",
   "execution_count": 25,
   "metadata": {},
   "outputs": [],
   "source": [
    "def avg(array): \n",
    "    return (sum(array)/len(array)) "
   ]
  },
  {
   "cell_type": "markdown",
   "metadata": {},
   "source": [
    "### k Fold Cross Validation"
   ]
  },
  {
   "cell_type": "code",
   "execution_count": 26,
   "metadata": {},
   "outputs": [],
   "source": [
    "def kfold_cross_validation(train0,train1,k,m,q):\n",
    "    \n",
    "    train_0 = random.sample(train0,len(train0))\n",
    "    train_1 = random.sample(train1,len(train1))\n",
    "    \n",
    "    fold_break = int(len(train_0)/k)\n",
    "    \n",
    "    MAP_curve_accuracy = np.zeros((10, 10))\n",
    "    \n",
    "    MAP_smooth_accuracy = []\n",
    "    \n",
    "    sd_maxL = []\n",
    "    sd_MAP = []\n",
    "\n",
    "    cv_test_0 = []\n",
    "    cv_test_1 = []\n",
    "    cv_train_0 = []\n",
    "    cv_train_1 = []\n",
    "\n",
    "    for i in range(k):\n",
    "        if i == 0:\n",
    "            cv_test_0 = train_0[(i*fold_break):((i+1)*fold_break)]\n",
    "            cv_train_0 = train_0[(i+1)*fold_break:]\n",
    "\n",
    "            cv_test_1 = train_1[i*fold_break:(i+1)*fold_break]\n",
    "            cv_train_1 = train_1[(i+1)*fold_break:]\n",
    "        if i == (k-1):\n",
    "            cv_test_0 = train_0[i*fold_break:(i+1)*fold_break]\n",
    "            cv_train_0 = train_0[:(i)*fold_break]\n",
    "\n",
    "            cv_test_1 = train_1[i*fold_break:(i+1)*fold_break]\n",
    "            cv_train_1 = train_1[:(i)*fold_break]\n",
    "        else:\n",
    "            cv_test_0 = train_0[i*fold_break:(i+1)*fold_break]\n",
    "            cv_train_0 = train_0[:(i)*fold_break] + train_0[(i+1)*fold_break:]\n",
    "\n",
    "            cv_test_1 = train_1[i*fold_break:(i+1)*fold_break]\n",
    "            cv_train_1 = train_1[:(i)*fold_break] + train_1[(i+1)*fold_break:]\n",
    "            \n",
    "            \n",
    "        # Now we have cv_test_0, cv_train_0, cv_test_1, cv_train_1\n",
    "        if q == 1:\n",
    "            for l in range(10):\n",
    "\n",
    "                new_train_1 = cv_train_1[:int(((l+1)*len(cv_train_1)/10))]\n",
    "                new_train_0 = cv_train_0[:int(((l+1)*len(cv_train_0)/10))]\n",
    "\n",
    "                vocab,total_words = create_dict(new_train_1 + new_train_0)\n",
    "\n",
    "                vocab_1,total_words_1 = create_dict(new_train_1)\n",
    "                vocab_0,total_words_0 = create_dict(new_train_0)\n",
    "\n",
    "                maxL_0 = generate_prior(new_train_0,new_train_1+new_train_0)\n",
    "                maxL_1 = generate_prior(new_train_1,new_train_1+new_train_0)\n",
    "\n",
    "                MAP_tokens_0 = calculate_MAP(vocab,vocab_0,total_words_0,m)\n",
    "                MAP_tokens_1 = calculate_MAP(vocab,vocab_1,total_words_1,m)\n",
    "\n",
    "                MAP_curve_accuracy[i][l] = prediction(maxL_0,maxL_1,MAP_tokens_0,MAP_tokens_1,cv_test_1+cv_test_0)\n",
    "                \n",
    "            \n",
    "        if q == 2:\n",
    "            new_train_1 = cv_train_1\n",
    "            new_train_0 = cv_train_0\n",
    "\n",
    "            vocab,total_words = create_dict(new_train_1 + new_train_0)\n",
    "\n",
    "            vocab_1,total_words_1 = create_dict(new_train_1)\n",
    "            vocab_0,total_words_0 = create_dict(new_train_0)\n",
    "\n",
    "            maxL_0 = generate_prior(new_train_0,new_train_1+new_train_0)\n",
    "            maxL_1 = generate_prior(new_train_1,new_train_1+new_train_0)\n",
    "\n",
    "            MAP_tokens_0 = calculate_MAP(vocab,vocab_0,total_words_0,m)\n",
    "            MAP_tokens_1 = calculate_MAP(vocab,vocab_1,total_words_1,m)\n",
    "\n",
    "            MAP_smooth_accuracy.append(prediction(maxL_0,maxL_1,MAP_tokens_0,MAP_tokens_1,cv_test_1+cv_test_0))\n",
    "    \n",
    "    if q == 2:\n",
    "        mean = np.mean(MAP_smooth_accuracy,axis=0)\n",
    "        sd = np.std(MAP_smooth_accuracy,axis=0)\n",
    "        return mean,sd\n",
    "    \n",
    "    if q ==1:\n",
    "        mean = np.mean(MAP_curve_accuracy, axis=0)\n",
    "        sd = np.std(MAP_curve_accuracy, axis=0)\n",
    "        return mean,sd"
   ]
  },
  {
   "cell_type": "code",
   "execution_count": 27,
   "metadata": {
    "scrolled": true
   },
   "outputs": [],
   "source": [
    "mean_MAP,sd_MAP = kfold_cross_validation(dataset_class_0, dataset_class_1,10,1,1)"
   ]
  },
  {
   "cell_type": "code",
   "execution_count": 28,
   "metadata": {},
   "outputs": [],
   "source": [
    "mean_MLE,sd_MLE = kfold_cross_validation(dataset_class_0, dataset_class_1,10,0,1)"
   ]
  },
  {
   "cell_type": "markdown",
   "metadata": {},
   "source": [
    "### Bar Graph Plot"
   ]
  },
  {
   "cell_type": "code",
   "execution_count": 39,
   "metadata": {},
   "outputs": [],
   "source": [
    "def plot_errorbar(mean_MAP,sd_MAP,mean_MLE,sd_MLE):\n",
    "    \n",
    "    index = np.arange(10)\n",
    "\n",
    "    x = [0.1,0.2,0.3,0.4,0.5,0.6,0.7,0.8,0.9,1]\n",
    "    \n",
    "    y1 = mean_MAP\n",
    "    yerr1 = sd_MAP\n",
    "    y2 = mean_MLE\n",
    "    yerr2 = sd_MLE\n",
    "    \n",
    "    plt.figure(200)\n",
    "    plt.errorbar(x,y1,yerr1)\n",
    "    plt.errorbar(x,y2,yerr2)\n",
    "    plt.title(\"Relationship between accuracy and train-set size\")\n",
    "    plt.gca().legend(('MAP(m=1)','MLE(m=0)'))\n",
    "    plt.xlabel('Function of train-set size')\n",
    "    plt.ylabel('Averages of accuracy')\n",
    "    plt.xticks(x)\n",
    "    plt.tick_params(axis=\"x\", labelsize=9)\n",
    "    fig = plt.gcf()\n",
    "    fig.set_size_inches(10,7)\n",
    "    #plt.savefig('pp1_5.png')\n",
    "    plt.show()"
   ]
  },
  {
   "cell_type": "code",
   "execution_count": 40,
   "metadata": {},
   "outputs": [
    {
     "data": {
      "image/png": "[encoded data removed]",
      "text/plain": [
       "<Figure size 720x504 with 1 Axes>"
      ]
     },
     "metadata": {
      "needs_background": "light"
     },
     "output_type": "display_data"
    }
   ],
   "source": [
    "plot_errorbar(mean_MAP,sd_MAP,mean_MLE,sd_MLE)"
   ]
  },
  {
   "cell_type": "markdown",
   "metadata": {},
   "source": [
    "### cross validation accuracy and SD as a function of the smoothing parameter"
   ]
  },
  {
   "cell_type": "code",
   "execution_count": 41,
   "metadata": {},
   "outputs": [],
   "source": [
    "smooth_mean = []\n",
    "smooth_sd = []\n",
    "for i in range(10):\n",
    "    s_mean,s_sd = kfold_cross_validation(dataset_class_0, dataset_class_1,10,(i/10),2)\n",
    "    smooth_mean.append(s_mean)\n",
    "    smooth_sd.append(s_sd)\n",
    "for j in range(10):\n",
    "    s_mean,s_sd = kfold_cross_validation(dataset_class_0, dataset_class_1,10,(j+1),2)\n",
    "    smooth_mean.append(s_mean)\n",
    "    smooth_sd.append(s_sd)"
   ]
  },
  {
   "cell_type": "code",
   "execution_count": 42,
   "metadata": {},
   "outputs": [],
   "source": [
    "def single_error_plot(y,yerr):\n",
    "    # example variable error bar values\n",
    "    x = [0,0.1,0.2,0.3,0.4,0.5,0.6,0.7,0.8,0.9,1,2,3,4,5,6,7,8,9,10]\n",
    "    plt.figure(300)\n",
    "    plt.errorbar(x,y,yerr)\n",
    "    plt.title(\"Relationship between accuracy and smoothing parameter(m)\")\n",
    "    plt.legend(('m'))\n",
    "    plt.xlabel('Function of m')\n",
    "    plt.ylabel('Averages of accuracy')\n",
    "    plt.xticks(x)\n",
    "    plt.tick_params(axis=\"x\", labelsize=9)\n",
    "    fig = plt.gcf()\n",
    "    fig.set_size_inches(14,11)\n",
    "    plt.savefig('pp1_2.png')\n",
    "    plt.show()"
   ]
  },
  {
   "cell_type": "code",
   "execution_count": 43,
   "metadata": {},
   "outputs": [
    {
     "data": {
      "image/png": "[encoded data removed]",
      "text/plain": [
       "<Figure size 1008x792 with 1 Axes>"
      ]
     },
     "metadata": {
      "needs_background": "light"
     },
     "output_type": "display_data"
    }
   ],
   "source": [
    "single_error_plot(smooth_mean,smooth_sd)"
   ]
  },
  {
   "cell_type": "code",
   "execution_count": null,
   "metadata": {},
   "outputs": [],
   "source": []
  },
  {
   "cell_type": "code",
   "execution_count": null,
   "metadata": {},
   "outputs": [],
   "source": []
  },
  {
   "cell_type": "code",
   "execution_count": null,
   "metadata": {},
   "outputs": [],
   "source": []
  }
 ],
 "metadata": {
  "kernelspec": {
   "display_name": "Python 3",
   "language": "python",
   "name": "python3"
  },
  "language_info": {
   "codemirror_mode": {
    "name": "ipython",
    "version": 3
   },
   "file_extension": ".py",
   "mimetype": "text/x-python",
   "name": "python",
   "nbconvert_exporter": "python",
   "pygments_lexer": "ipython3",
   "version": "3.7.3"
  }
 },
 "nbformat": 4,
 "nbformat_minor": 2
}
